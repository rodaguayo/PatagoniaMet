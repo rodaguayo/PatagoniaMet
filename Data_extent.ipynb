{
 "cells": [
  {
   "cell_type": "markdown",
   "id": "d4f7b85c-2d2d-471b-9574-d2cd18da70ed",
   "metadata": {},
   "source": [
    "# Code to reprocessing reanalysis/climate datasets used in Aguayo et al. (in review)\n",
    "Developed by Rodrigo Aguayo (2020-2023)"
   ]
  },
  {
   "cell_type": "code",
   "execution_count": null,
   "id": "3def55cf-78b3-4ef0-bb10-fd8b69ec3f50",
   "metadata": {},
   "outputs": [],
   "source": [
    "import pandas as pd\n",
    "import xarray as xr\n",
    "import regionmask\n",
    "import rioxarray as rioxr\n",
    "import geopandas as gpd\n",
    "import numpy as np\n",
    "import os\n",
    "\n",
    "os.chdir('/home/rooda/Dropbox/Patagonia/Data/') \n",
    "local  = \"/media/rooda/Local Disk/Datasets\"\n",
    "days = np.array([31, 28, 31, 30, 31, 30, 31, 31, 30, 31, 30, 31])\n",
    "\n",
    "encode_pp   = {\"pp\": {\"zlib\": True, \"complevel\": 1, \"dtype\": \"int16\"}}\n",
    "encode_t2m  = {'t2m':   {'dtype': 'int16', 'scale_factor': 0.01, '_FillValue': -9999}}\n",
    "encode_tmax = {'tmax':  {'dtype': 'int16', 'scale_factor': 0.01, '_FillValue': -9999}}\n",
    "encode_tmin = {'tmin':  {'dtype': 'int16', 'scale_factor': 0.01, '_FillValue': -9999}}\n",
    "\n",
    "mask       = gpd.read_file(\"/home/rooda/Dropbox/Patagonia/GIS South/dem_mask.shp\")"
   ]
  },
  {
   "cell_type": "markdown",
   "id": "3f38827e-9d9d-40f2-a714-da4ee799303e",
   "metadata": {
    "tags": []
   },
   "source": [
    "## ERA5"
   ]
  },
  {
   "cell_type": "code",
   "execution_count": null,
   "id": "2ce657a4-e1ac-44e1-a08f-2e621f8ff451",
   "metadata": {},
   "outputs": [],
   "source": [
    "dict_pp  = {'tp':'pp', 'longitude':'lon', 'latitude':'lat'} # monthly averaged reanalysis (ok)\n",
    "stack_pp = xr.open_dataset(os.path.join(local + \"/ERA5/Monthly/ERA5_1959_2021m.nc\"), chunks =\"auto\").rename(dict_pp)[[\"pp\"]]\n",
    "stack_pp = stack_pp.where((stack_pp.lon >= -76) & (stack_pp.lon <= -65) & (stack_pp.lat >= -56) & (stack_pp.lat <= -40), drop=True)\n",
    "months  = xr.DataArray(days.repeat(2021-1959+1), coords=[stack_pp.time], name='month_length')\n",
    "stack_pp = (stack_pp*months*1000).astype(\"int16\")\n",
    "stack_pp.to_netcdf(\"Precipitation/PP_ERA5_1959_2021m.nc\", encoding = encode_pp)\n",
    "\n",
    "dict_t2m  = {'longitude':'lon', 'latitude':'lat'} # monthly averaged reanalysis (ok)\n",
    "stack_t2m = xr.open_dataset(os.path.join(local + \"/ERA5/Monthly/ERA5_1959_2021m.nc\"), chunks =\"auto\").rename(dict_t2m)[[\"t2m\"]]\n",
    "stack_t2m = stack_t2m.where((stack_t2m.lon >= -76) & (stack_t2m.lon <= -65) & (stack_t2m.lat >= -56) & (stack_t2m.lat <= -40), drop=True)\n",
    "stack_t2m = (stack_t2m-273.15).round(2)\n",
    "stack_t2m.to_netcdf(\"Temperature/Tavg_ERA5_1959_2021m.nc\", encoding = encode_t2m)"
   ]
  },
  {
   "cell_type": "code",
   "execution_count": null,
   "id": "fa43c212-1238-4bfa-be03-d775a0bb512f",
   "metadata": {},
   "outputs": [],
   "source": [
    "# reanalysis 3-hourly data\n",
    "dict_pp   = {'tp':'pp', 'longitude':'lon', 'latitude':'lat'}\n",
    "stack_pp  = xr.open_mfdataset(os.path.join(local + \"/ERA5/Hourly/ERA5*.nc\"), concat_dim='time', combine='nested', chunks =\"auto\").rename(dict_pp)[\"pp\"]  \n",
    "mask_pp   = regionmask.mask_geopandas(mask, stack_pp)\n",
    "stack_pp  = stack_pp.where(mask_pp >= 0, drop=True)\n",
    "stack_pp  = stack_pp.sortby(\"time\").resample(time='1D').sum(skipna=False)\n",
    "stack_pp  = (stack_pp*3*1000).round(0)\n",
    "stack_pp.to_netcdf(\"Precipitation/PP_ERA5_1959_2021d.nc\")"
   ]
  },
  {
   "cell_type": "code",
   "execution_count": null,
   "id": "2927dc03-093c-4e77-8f19-041d56829924",
   "metadata": {},
   "outputs": [],
   "source": [
    "dict_t2m   = {'longitude':'lon', 'latitude':'lat'}\n",
    "stack_t2m  = xr.open_mfdataset(os.path.join(local + \"/ERA5/Hourly/ERA5*.nc\"), concat_dim='time', combine='nested', chunks =\"auto\").rename(dict_t2m)[\"t2m\"] \n",
    "mask_t2m   = regionmask.mask_geopandas(mask, stack_t2m)\n",
    "stack_t2m  = stack_t2m.where(mask_t2m >= 0, drop=True)\n",
    "stack_t2m_max = stack_t2m.sortby(\"time\").resample(time='1D').max()\n",
    "stack_t2m_min = stack_t2m.sortby(\"time\").resample(time='1D').min()\n",
    "stack_t2m_max = (stack_t2m_max-273.15).round(2)\n",
    "stack_t2m_min = (stack_t2m_min-273.15).round(2)\n",
    "stack_t2m_max.to_netcdf(\"Temperature/Tmax_ERA5_1959_2021d.nc\")\n",
    "stack_t2m_min.to_netcdf(\"Temperature/Tmin_ERA5_1959_2021d.nc\")"
   ]
  },
  {
   "cell_type": "code",
   "execution_count": null,
   "id": "ae066cdf-5238-4d33-bdb0-63f0818084d0",
   "metadata": {},
   "outputs": [],
   "source": [
    "# monthly alternative\n",
    "dict_t2m   = {'longitude':'lon', 'latitude':'lat'}\n",
    "stack_t2m  = xr.open_mfdataset(os.path.join(local + \"/ERA5/Hourly/ERA5*.nc\"), concat_dim='time', combine='nested', chunks =\"auto\").rename(dict_t2m)[\"t2m\"] \n",
    "stack_t2m  = stack_t2m.where((stack_t2m.lon >= -76) & (stack_t2m.lon <= -65) & (stack_t2m.lat >= -56) & (stack_t2m.lat <= -40), drop=True) - 273.15"
   ]
  },
  {
   "cell_type": "code",
   "execution_count": null,
   "id": "ce1ad3ff-6728-43c6-b45b-2cf6e5dc394d",
   "metadata": {},
   "outputs": [],
   "source": [
    "stack_t2m_max = stack_t2m.sortby(\"time\").resample(time='1D').max()\n",
    "stack_t2m_max = stack_t2m_max.resample(time='MS').mean()\n",
    "stack_t2m_max.to_netcdf(\"Temperature/Tmax_ERA5_1959_2021m.nc\")\n",
    "\n",
    "stack_t2m_min = stack_t2m.sortby(\"time\").resample(time='1D').min()\n",
    "stack_t2m_min = stack_t2m_min.resample(time='MS').mean()\n",
    "stack_t2m_min.to_netcdf(\"Temperature/Tmin_ERA5_1959_2021m.nc\")"
   ]
  },
  {
   "cell_type": "markdown",
   "id": "847ff16a-94bf-4775-8ba0-e4e1b06ad4eb",
   "metadata": {},
   "source": [
    "## ERA5-LAND\n",
    "\n"
   ]
  },
  {
   "cell_type": "code",
   "execution_count": null,
   "id": "9e7be2f5-b516-4f55-b8ac-0439f5541399",
   "metadata": {},
   "outputs": [],
   "source": [
    " # monthly averaged reanalysis\n",
    "dict_pp   = {'tp':'pp', 'longitude':'lon', 'latitude':'lat'}\n",
    "stack_pp  = xr.open_dataset(os.path.join(local + \"/ERA5_LAND/Monthly/PP_ERA5L_1950_2021m.nc\"), chunks =\"auto\").rename(dict_pp)  \n",
    "stack_pp  = stack_pp.where((stack_pp.lon >= -79) & (stack_pp.lon <= -64) & (stack_pp.lat >= -57) & (stack_pp.lat <= -40), drop=True)\n",
    "stack_pp  = (stack_pp*1000).astype(\"int32\")\n",
    "stack_pp.to_netcdf(\"Precipitation/PP_ERA5L_1950_2021m.nc\")\n",
    "\n",
    "dict_t2m  = {'longitude':'lon', 'latitude':'lat'}\n",
    "stack_t2m = xr.open_dataset(os.path.join(local, \"/ERA5_LAND/Monthly/T2M_ERA5L_1950_2021m.nc\"), chunks =\"auto\").rename(dict_t2m)  \n",
    "stack_t2m = stack_t2m.where((stack_t2m.lon >= -79) & (stack_t2m.lon <= -64) & (stack_t2m.lat >= -57) & (stack_t2m.lat <= -40), drop=True)\n",
    "stack_t2m = (stack_t2m-273.15).round(2)\n",
    "stack_t2m.to_netcdf(\"Temperature/T2M_ERA5__1950_2021m.nc\")\n",
    "\n",
    " # reanalysis 3-hourly data\n",
    "stack_pp  = xr.open_mfdataset(os.path.join(local + \"/ERA5_LAND/Hourly/PP_ERA5L_*.nc\"), concat_dim='time', combine='nested', chunks =\"auto\")*1000     \n",
    "stack_pp  = stack_pp.where((stack_pp.lon >= -79) & (stack_pp.lon <= -64) & (stack_pp.lat >= -57) & (stack_pp.lat <= -40), drop=True)\n",
    "stack_pp  = stack_pp.resample(time='1D').mean()\n",
    "stack_pp  = (stack_pp*1000).round(1)\n",
    "stack_pp.to_netcdf(\"Precipitation/PP_ERA5L_1950_2021d.nc\")\n",
    "\n",
    "stack_t2m  = xr.open_mfdataset(os.path.join(local + \"/ERA5_LAND/Hourly/T2M_ERA5L.*.nc\"), concat_dim='time', combine='nested', chunks =\"auto\")-273.15\n",
    "stack_t2m  = stack_t2m.where((stack_t2m.lon >= -79) & (stack_t2m.lon <= -64) & (stack_t2m.lat >= -57) & (stack_t2m.lat <= -40), drop=True)\n",
    "stack_t2m_max = stack_t2m.resample(time='1D').max()\n",
    "stack_t2m_min = stack_t2m.resample(time='1D').min()\n",
    "stack_t2m_min = (stack_t2m_min-273.15).round(2)\n",
    "stack_t2m_max = (stack_t2m_max-273.15).round(2)\n",
    "stack_t2m_max.to_netcdf(\"Temperature/T2M_max_ERA5L_1950_2021d.nc\")\n",
    "stack_t2m_min.to_netcdf(\"Temperature/T2M_min_ERA5L_1950_2021d.nc\")\n",
    "\n",
    "dict_ws  = {'longitude':'lon', 'latitude':'lat'}\n",
    "factor      = (2/10)**0.25 #C orrection from 10m to 2m\n",
    "stack_ws    = xr.open_mfdataset(os.path.join(local + \"/ERA5_LAND/Hourly/WS_ERA5L*.nc\"), concat_dim='time', combine='nested', chunks =\"auto\").rename(dict_ws) \n",
    "stack_ws    = stack_ws.where((stack_ws.lon >= -79) & (stack_ws.lon <= -64) & (stack_ws.lat >= -57) & (stack_ws.lat <= -40), drop=True).sortby(\"time\")\n",
    "stack_ws[\"ws\"]= (stack_ws.u10**2 + stack_ws.v10**2)**0.5\n",
    "stack_ws[\"ws\"] = stack_ws.ws*factor\n",
    "stack_ws = stack_ws[\"ws\"].resample(time='1D').mean()\n",
    "stack_ws.to_netcdf(\"Wind_speed/WS_ERA5L_1950_2021d.nc\")\n",
    "\n",
    "dict_hr   = {'longitude':'lon', 'latitude':'lat'}\n",
    "stack_d2m = xr.open_mfdataset(os.path.join(local + \"/ERA5_LAND/Hourly/T2Md*.nc\"), concat_dim='time', combine='nested', chunks =\"auto\")-273.15\n",
    "stack_t2m = xr.open_mfdataset(os.path.join(local + \"/ERA5_LAND/Hourly/T2M*.nc\"), concat_dim='time', combine='nested', chunks =\"auto\")-273.15\n",
    "stack_rh  = xr.merge([stack_d2m, stack_d2m]).rename(dict_hr) \n",
    "stack_rh  = stack_rh.where((stack_rh.lon >= -79) & (stack_rh.lon <= -64) & (stack_rh.lat >= -57) & (stack_rh.lat <= -40), drop=True).sortby(\"time\")\n",
    "stack_rh[\"hr\"] = exp((17.625*stack_rh.d2m)/(243.04+stack_rh.d2m)) / exp((17.625*stack_rh.t2m)/(243.04+stack_rh.t2m))\n",
    "stack_rh = stack_rh[\"hr\"].resample(time='1D').mean()\n",
    "stack_rh.to_netcdf(\"Relative_humidity/RH_ERA5L_1950_2021d.nc\")"
   ]
  },
  {
   "cell_type": "markdown",
   "id": "bc5ae34f-47ab-4005-b781-259868a7c024",
   "metadata": {},
   "source": [
    "## MERRA2"
   ]
  },
  {
   "cell_type": "code",
   "execution_count": null,
   "id": "76053c3e-d2e9-4276-8513-d0bd4b1c1aa5",
   "metadata": {},
   "outputs": [],
   "source": [
    "# Monthly data \n",
    "dict_pp   = {'PRECTOT':'pp'}\n",
    "stack_pp  = xr.open_mfdataset(os.path.join(local + \"/MERRA2/*\"), concat_dim='time', combine='nested', chunks =\"auto\").rename(dict_pp)[[\"pp\"]]  \n",
    "stack_pp  = stack_pp.where((stack_pp.lon >= -79) & (stack_pp.lon <= -64) & (stack_pp.lat >= -57) & (stack_pp.lat <= -40), drop=True).sortby(\"time\")\n",
    "months    = xr.DataArray(np.tile(days,2021-1980+1), coords=[stack_pp.time], name='month_length') # fix !!\n",
    "stack_pp  = (stack_pp*months*86400).astype(\"int32\")\n",
    "stack_pp[\"time\"] = pd.date_range(start='1980/01/01', end='2021/12/01', freq='MS')  \n",
    "stack_pp.to_netcdf(\"Precipitation/PP_MERRA2_1980_2021m.nc\", encoding = encode_pp)                              \n",
    "\n",
    "dict_t2m  = {'TLML':'t2m'}\n",
    "stack_t2m = xr.open_mfdataset(os.path.join(local + \"/MERRA2/*\"), combine='by_coords', chunks =\"auto\").sortby(\"time\").rename(dict_t2m)[[\"t2m\"]]\n",
    "stack_t2m = stack_t2m.where((stack_t2m.lon >= -79) & (stack_t2m.lon <= -64) & (stack_t2m.lat >= -57) & (stack_t2m.lat <= -40), drop=True)\n",
    "stack_t2m = (stack_t2m-273.15).round(2)\n",
    "stack_t2m[\"time\"] = pd.date_range(start='1980/01/01', end='2021/12/01', freq='MS')  \n",
    "stack_t2m.to_netcdf(\"Temperature/Tavg_MERRA2_1980_2021m.nc\", encoding = encode_t2m)  "
   ]
  },
  {
   "cell_type": "markdown",
   "id": "dfe96cab-57cf-47c8-ba9b-43e7cddd1138",
   "metadata": {},
   "source": [
    "## CSFR"
   ]
  },
  {
   "cell_type": "code",
   "execution_count": null,
   "id": "43817623-1eb4-4f1a-b46c-f3b820b17d66",
   "metadata": {},
   "outputs": [],
   "source": [
    "local  = \"/home/rooda/Dropbox/\"\n",
    "\n",
    "# Monthly Mean (4 per day) of 6-hour Accumulation\n",
    "dict_pp  = {'A_PCP_L1_AccumAvg':'pp'}\n",
    "\n",
    "stack_pp1  = xr.open_mfdataset(os.path.join(local + \"/CSFR/1979_2010/pgbh*.nc\"), concat_dim='time', combine='nested').rename(dict_pp)[[\"pp\"]]\n",
    "stack_pp2  = xr.open_mfdataset(os.path.join(local + \"/CSFR/2011_2019/PP/pgbh*.nc\"), concat_dim='time', combine='nested').rename(dict_pp)[[\"pp\"]]\n",
    "stack_pp   = xr.concat([stack_pp1, stack_pp2], dim = \"time\").pp*4 # Problem during union\n",
    "\n",
    "stack_pp.coords['lon'] = (stack_pp.coords['lon'] + 180) % 360 - 180\n",
    "stack_pp2 = stack_pp2.sortby(stack_pp1.lon)\n",
    "stack_pp2  = stack_pp2.where((stack_pp2.lon >= -79) & (stack_pp2.lon <= -64) & (stack_pp2.lat >= -57) & (stack_pp2.lat <= -40), drop=True)\n",
    "months    = xr.DataArray(np.tile(days, 2019-1979+1), coords=[stack_pp.time], name='month_length') # fix !!\n",
    "stack_pp  = (stack_pp*months).astype(\"int32\")\n",
    "#tack_pp[\"time\"] = pd.date_range(start='1979/01/01', end='2019/12/01', freq='MS')  \n",
    "stack_pp.to_netcdf(\"Precipitation/PP_CSFR_1979_2019m.nc\", encoding = encode_pp)\n",
    "\n",
    "# Monthly Mean (4 per day) of 6-hour Accumulation\n",
    "dict_t2m    = { 'TMP_L103_Avg':'t2m'}\n",
    "stack_t2m1  = xr.open_mfdataset(os.path.join(local + \"/CSFR/1979_2010/flxf*.nc\"), concat_dim='time', combine='nested').sortby(\"time\").rename(dict_t2m)[[\"t2m\"]]\n",
    "stack_t2m2  = xr.open_mfdataset(os.path.join(local + \"/CSFR/2011_2019/T2M/flxf*.nc\"), concat_dim='time', combine='nested').sortby(\"time\").rename(dict_t2m)[[\"t2m\"]]\n",
    "stack_t2m2  = stack_t2m2.interp_like(stack_t2m1.t2m[0], method='linear')\n",
    "stack_t2m   = xr.concat([stack_t2m1, stack_t2m2], dim = \"time\")\n",
    "stack_t2m = stack_t2m1\n",
    "stack_t2m.coords['lon'] = (stack_t2m.coords['lon'] + 180) % 360 - 180\n",
    "stack_t2m = stack_t2m.where((stack_t2m.lon >= -79) & (stack_t2m.lon <= -64) & (stack_t2m.lat >= -57) & (stack_t2m.lat <= -40), drop=True)\n",
    "stack_t2m[\"time\"] = pd.date_range(start='1979/01/01', end='2010/12/01', freq='MS') \n",
    "stack_t2m = (stack_t2m-273.15).round(2)                  \n",
    "stack_t2m.to_netcdf(\"Temperature/Tavg_CSFR_1979_2010m.nc\", encoding = encode_t2m)"
   ]
  },
  {
   "cell_type": "markdown",
   "id": "4ef5ee42-c20f-48f9-b813-48d00bb9a535",
   "metadata": {},
   "source": [
    "## REGCR2: RegCM4-CR2"
   ]
  },
  {
   "cell_type": "code",
   "execution_count": null,
   "id": "3a335d5e-6930-424b-b7b2-f0b90f4c0ac8",
   "metadata": {},
   "outputs": [],
   "source": [
    "dict_pp  = {'pr':'pp'}\n",
    "stack_pp = xr.open_mfdataset(os.path.join(local + \"/REGCR2/pr_*.nc\"), combine='by_coords').rename(dict_pp).sortby(\"time\")[[\"pp\"]]\n",
    "stack_pp = stack_pp.where((stack_pp.lon >= -79) & (stack_pp.lon <= -64) & (stack_pp.lat >= -57) & (stack_pp.lat <= -40), drop=True)\n",
    "stack_pp[\"time\"] = pd.date_range(start='1980/01/01', end='2015/12/01', freq='MS')  \n",
    "months   = xr.DataArray(days.repeat(2015-1980+1), coords=[stack_pp.time], name='month_length')\n",
    "stack_pp = (stack_pp*months*86400).astype(\"int32\")\n",
    "stack_pp.to_netcdf(\"Precipitation/PP_REGCR2_1980_2015m.nc\", encoding = encode_pp)\n",
    "\n",
    "dict_t2m  = {'tas':'t2m'}\n",
    "stack_t2m = xr.open_mfdataset(os.path.join(local + \"/REGCR2/tas_*.nc\"), combine='by_coords').rename(dict_t2m).sortby(\"time\")[\"t2m\"] \n",
    "stack_t2m = stack_t2m.where((stack_t2m.lon >= -79) & (stack_t2m.lon <= -64) & (stack_t2m.lat >= -57) & (stack_t2m.lat <= -40), drop=True)\n",
    "stack_t2m[\"time\"] = pd.date_range(start='1980/01/01', end='2015/12/01', freq='MS') \n",
    "stack_t2m = (stack_t2m-273.15).round(2)\n",
    "stack_t2m.to_netcdf(\"Temperature/T2M_REGCR2_1980_2015m.nc\", encoding = encode_t2m)"
   ]
  },
  {
   "cell_type": "markdown",
   "id": "a6a4a867-9460-4ba8-90f0-71cf4358212d",
   "metadata": {},
   "source": [
    "## MSWEP v2.8 and MSWX"
   ]
  },
  {
   "cell_type": "code",
   "execution_count": null,
   "id": "7537c34d-4d0a-4b7a-9402-c32a402e5f05",
   "metadata": {
    "tags": []
   },
   "outputs": [],
   "source": [
    "# Daily timestep\n",
    "stack_pp = xr.open_mfdataset(os.path.join(local + \"/MSWEP-MX/pr/Daily/*.nc\"), combine='by_coords', chunks =\"auto\").rename({'precipitation':'pp'})  \n",
    "stack_pp = stack_pp.where((stack_pp.lon >= -79) & (stack_pp.lon <= -64) & (stack_pp.lat >= -57) & (stack_pp.lat <= -40), drop=True)\n",
    "stack_pp = stack_pp.astype(\"int16\")\n",
    "stack_pp.to_netcdf(\"Precipitation/PP_MSWEPv28_1979_2020d.nc\", encoding = encode_pp)"
   ]
  },
  {
   "cell_type": "code",
   "execution_count": null,
   "id": "8f7235c0-fb66-453e-9190-9cef54168321",
   "metadata": {
    "tags": []
   },
   "outputs": [],
   "source": [
    "stack_t2m = xr.open_mfdataset(os.path.join(local + \"/MSWEP-MX/tas/Daily/*/Daily/*.nc\"), combine='by_coords', chunks =\"auto\").rename({'air_temperature':'t2m'})\n",
    "stack_t2m = stack_t2m.where((stack_t2m.lon >= -79) & (stack_t2m.lon <= -64) & (stack_t2m.lat >= -57) & (stack_t2m.lat <= -40), drop=True)\n",
    "stack_t2m.to_netcdf(\"Temperature/Tavg_MSWX_1979_2019d.nc\", encoding = encode_t2m)"
   ]
  },
  {
   "cell_type": "code",
   "execution_count": null,
   "id": "3c5fcdd7-be49-4d08-b9b1-9a3e6a95198f",
   "metadata": {
    "tags": []
   },
   "outputs": [],
   "source": [
    "stack_tmax = xr.open_mfdataset(os.path.join(local + \"/MSWEP-MX/tmax/Daily/*/Daily/*.nc\"), combine='by_coords', chunks =\"auto\").rename({'air_temperature':'t2m'})\n",
    "stack_tmax = stack_tmax.where((stack_tmax.lon >= -79) & (stack_tmax.lon <= -64) & (stack_tmax.lat >= -57) & (stack_tmax.lat <= -40), drop=True)\n",
    "stack_tmax.to_netcdf(\"Temperature/Tmax_MSWX_1979_2019d.nc\", encoding = encode_t2m)"
   ]
  },
  {
   "cell_type": "code",
   "execution_count": null,
   "id": "d71f8c40-cb3d-4df4-b011-8f097718555c",
   "metadata": {
    "tags": []
   },
   "outputs": [],
   "source": [
    "stack_tmin = xr.open_mfdataset(os.path.join(local + \"/MSWEP-MX/tmin/Daily/*/Daily/*.nc\"), combine='by_coords', chunks =\"auto\").rename({'air_temperature':'t2m'})\n",
    "stack_tmin = stack_tmin.where((stack_tmin.lon >= -79) & (stack_tmin.lon <= -64) & (stack_tmin.lat >= -57) & (stack_tmin.lat <= -40), drop=True)\n",
    "stack_tmin.to_netcdf(\"Temperature/Tmin_MSWX_1979_2019d.nc\", encoding = encode_t2m)"
   ]
  },
  {
   "cell_type": "code",
   "execution_count": null,
   "id": "6eacd110-d7b5-413f-9d1a-4b291232b3d5",
   "metadata": {
    "tags": []
   },
   "outputs": [],
   "source": [
    "# To monthly timestep \n",
    "dict_pp  = {'precipitation':'pp'}\n",
    "stack_pp = xr.open_mfdataset(os.path.join(local + \"/MSWEP-MX/pr/Monthly/*.nc\"), combine='by_coords', chunks =\"auto\").rename(dict_pp)  \n",
    "stack_pp = stack_pp.where((stack_pp.lon >= -79) & (stack_pp.lon <= -64) & (stack_pp.lat >= -57) & (stack_pp.lat <= -40), drop=True)\n",
    "stack_pp = stack_pp.astype(\"int16\")\n",
    "stack_pp.to_netcdf(\"Precipitation/PP_MSWEPv28_1979_2020m.nc\", encoding = encode_pp)\n",
    "\n",
    "dict_t2m  = {'air_temperature':'t2m'}\n",
    "stack_t2m = xr.open_mfdataset(os.path.join(local + \"/MSWEP-MX/tas/Monthly/*.nc\"), combine='by_coords', chunks =\"auto\").rename(dict_t2m)  \n",
    "stack_t2m = stack_t2m.where((stack_t2m.lon >= -79) & (stack_t2m.lon <= -64) & (stack_t2m.lat >= -57) & (stack_t2m.lat <= -40), drop=True)\n",
    "stack_t2m.to_netcdf(\"Temperature/Tavg_MSWX_1979_2021m.nc\", encoding = encode_t2m)"
   ]
  },
  {
   "cell_type": "markdown",
   "id": "7ae73419-588f-483a-9644-86b9092e2740",
   "metadata": {},
   "source": [
    "## CR2MET v2.5"
   ]
  },
  {
   "cell_type": "code",
   "execution_count": null,
   "id": "55da8ee4-825b-4a51-9614-dec65ef85204",
   "metadata": {},
   "outputs": [],
   "source": [
    "# Daily timestep\n",
    "dict_pp   = {'pr':'pp'}\n",
    "stack_pp  = xr.open_mfdataset(os.path.join(local + \"/CR2MET/PP/*.nc\"),  combine='by_coords', chunks =\"auto\")[[\"pr\"]].rename(dict_pp)\n",
    "stack_pp  = stack_pp.where((stack_pp.lon >= -79) & (stack_pp.lon <= -64) & (stack_pp.lat >= -57) & (stack_pp.lat <= -40), drop=True)\n",
    "stack_pp  = stack_pp.astype(\"int16\")\n",
    "stack_pp.to_netcdf(\"Precipitation/PP_CR2MET_1960_2021d.nc\", encoding = encode_pp)\n",
    "\n",
    "stack_t2m_max = xr.open_mfdataset(os.path.join(local + \"/CR2MET/T2M/*tmin_tmax*.nc\"), combine='by_coords', chunks =\"auto\")[[\"tmax\"]]\n",
    "stack_t2m_max = stack_t2m_max.where((stack_t2m_max.lon >= -79) & (stack_t2m_max.lon <= -64) & (stack_t2m_max.lat >= -57) & (stack_t2m_max.lat <= -40), drop=True)               \n",
    "stack_t2m_max.to_netcdf(\"Temperature/Tmax_CR2MET_1960_2021d.nc\", encoding = encode_tmax)\n",
    "\n",
    "stack_t2m_min = xr.open_mfdataset(os.path.join(local + \"/CR2MET/T2M/*tmin*.nc\"), combine='by_coords', chunks =\"auto\")[[\"tmin\"]]\n",
    "stack_t2m_min = stack_t2m_min.where((stack_t2m_min.lon >= -79) & (stack_t2m_min.lon <= -64) & (stack_t2m_min.lat >= -57) & (stack_t2m_min.lat <= -40), drop=True)                               \n",
    "stack_t2m_min.to_netcdf(\"Temperature/Tmin_CR2MET_1960_2021d.nc\", encoding = encode_tmin) \n",
    "\n",
    "stack_t2m      = (stack_t2m_max[\"tmax\"] + stack_t2m_min[\"tmin\"])/2 # The mean of the maximum and minimum\n",
    "stack_t2m      = stack_t2m.to_dataset(name = \"t2m\")\n",
    "stack_t2m.to_netcdf(\"Temperature/Tavg_CR2MET_1960_2021d.nc\", encoding = encode_t2m)"
   ]
  },
  {
   "cell_type": "code",
   "execution_count": null,
   "id": "0586b14d-bd0d-42ad-947a-bb46c1caa29f",
   "metadata": {
    "tags": []
   },
   "outputs": [],
   "source": [
    "# To monthly timestep \n",
    "stack_pp       = stack_pp.resample(time='MS').sum()    \n",
    "stack_t2m_max  = stack_t2m_max.resample(time='MS').mean()    \n",
    "stack_t2m_min  = stack_t2m_min.resample(time='MS').mean()\n",
    "stack_t2m      = (stack_t2m_max[\"tmax\"]+stack_t2m_min[\"tmin\"])/2 # The mean of the maximum and minimum\n",
    "stack_t2m      = stack_t2m.to_dataset(name = \"t2m\")\n",
    "\n",
    "stack_pp.to_netcdf(\"Precipitation/PP_CR2MET_1960_2021m.nc\", encoding = encode_pp)\n",
    "stack_t2m.to_netcdf(\"Temperature/Tavg_CR2MET_1960_2021m.nc\", encoding = encode_t2m)"
   ]
  },
  {
   "cell_type": "markdown",
   "id": "9de499f2-c518-4312-9ae9-0b440272905d",
   "metadata": {},
   "source": [
    "## W5E5 v2.0"
   ]
  },
  {
   "cell_type": "code",
   "execution_count": null,
   "id": "955d8773-d387-4b38-bc0e-2692ec12530a",
   "metadata": {},
   "outputs": [],
   "source": [
    "# Daily timestep\n",
    "stack_pp  = xr.open_mfdataset(os.path.join(local + \"/W5E5/pr_*.nc\"), combine='by_coords', chunks =\"auto\").rename({'pr':'pp'})\n",
    "stack_pp  = stack_pp.where((stack_pp.lon >= -79) & (stack_pp.lon <= -64) & (stack_pp.lat >= -57) & (stack_pp.lat <= -40), drop=True)\n",
    "stack_pp  = (stack_pp * 86400).astype(\"int16\")\n",
    "stack_pp.to_netcdf(\"Precipitation/PP_W5E5_1979_2019d.nc\", encoding = encode_pp)\n",
    "\n",
    "stack_t2m = xr.open_mfdataset(os.path.join(local + \"/W5E5/tas_*.nc\"), combine='by_coords', chunks =\"auto\").rename({'tas':'t2m'})  \n",
    "stack_t2m = stack_t2m.where((stack_t2m.lon >= -79) & (stack_t2m.lon <= -64) & (stack_t2m.lat >= -57) & (stack_t2m.lat <= -40), drop=True)\n",
    "stack_t2m  = stack_t2m - 273.15\n",
    "stack_t2m.to_netcdf(\"Temperature/Tavg_W5E5_1979_2019d.nc\", encoding = encode_t2m)\n",
    "\n",
    "stack_tmax = xr.open_mfdataset(os.path.join(local + \"/W5E5/tasmax_*.nc\"), combine='by_coords', chunks =\"auto\").rename({'tasmax':'t2m'})  \n",
    "stack_tmax = stack_tmax.where((stack_tmax.lon >= -79) & (stack_tmax.lon <= -64) & (stack_tmax.lat >= -57) & (stack_tmax.lat <= -40), drop=True)\n",
    "stack_tmax = stack_tmax - 273.15\n",
    "stack_tmax.to_netcdf(\"Temperature/Tmax_W5E5_1979_2019d.nc\", encoding = encode_t2m)\n",
    "\n",
    "stack_tmin = xr.open_mfdataset(os.path.join(local + \"/W5E5/tasmin_*.nc\"), combine='by_coords', chunks =\"auto\").rename({'tasmin':'t2m'})  \n",
    "stack_tmin = stack_tmin.where((stack_tmin.lon >= -79) & (stack_tmin.lon <= -64) & (stack_tmin.lat >= -57) & (stack_tmin.lat <= -40), drop=True)\n",
    "stack_tmin = stack_tmin - 273.15\n",
    "stack_tmin.to_netcdf(\"Temperature/Tmin_W5E5_1979_2019d.nc\", encoding = encode_t2m)"
   ]
  },
  {
   "cell_type": "code",
   "execution_count": null,
   "id": "75036bc0-8f29-4974-afd8-8fc7608b8941",
   "metadata": {},
   "outputs": [],
   "source": [
    "# To monthly timestep \n",
    "stack_pp  = stack_pp.resample(time='MS').sum()\n",
    "stack_pp.to_netcdf(\"Precipitation/PP_W5E5_1979_2019m.nc\", encoding = encode_pp)\n",
    "\n",
    "stack_t2m  = stack_t2m.resample(time='MS').mean()\n",
    "stack_t2m.to_netcdf(\"Temperature/Tavg_W5E5_1979_2019m.nc\", encoding = encode_t2m)"
   ]
  },
  {
   "cell_type": "markdown",
   "id": "217a4710-c007-48e1-a8ca-660c9f63d96a",
   "metadata": {},
   "source": [
    "## GLEAM v3.6a"
   ]
  },
  {
   "cell_type": "code",
   "execution_count": null,
   "id": "423ba037-0896-42e1-9ce0-53d6e136696f",
   "metadata": {},
   "outputs": [],
   "source": [
    "# Daily timestep\n",
    "pet_stack = xr.open_mfdataset(os.path.join(local + \"/GLEAM/Daily/Ep_*.nc\"), combine='by_coords', chunks =\"auto\").rename({'Ep':'pet'})[\"pet\"]\n",
    "pet_stack = pet_stack.where((pet_stack.lon >= -79) & (pet_stack.lon <= -64) & (pet_stack.lat >= -57) & (pet_stack.lat <= -40), drop=True)\n",
    "pet_stack = pet_stack.interpolate_na(dim=\"lon\", method=\"linear\", limit=1)\n",
    "pet_stack = pet_stack.where(pet_stack > 0, 0)\n",
    "pet_mask  = pet_stack[0] > 0\n",
    "pet_stack = pet_stack.where(pet_mask)\n",
    "pet_stack = pet_stack.round(2)\n",
    "pet_stack.lon.attrs['long_name'] = 'longitude'\n",
    "pet_stack.lat.attrs[\"long_name\"] = \"latitude\"\n",
    "pet_stack.to_netcdf(\"Evapotranspiration/PET_GLEAM36a_1980_2021d.nc\", encoding = {\"pet\": {\"zlib\": True, \"complevel\": 9, \"dtype\": \"float32\"}})\n",
    "\n",
    "# Monthly timestep\n",
    "pet_stack = pet_stack.resample(time='MS').sum()  # to monthly timestep\n",
    "pet_stack = pet_stack.where(pet_mask)\n",
    "pet_stack = pet_stack.round(0)\n",
    "pet_stack.to_netcdf(\"Evapotranspiration/PET_GLEAM36a_1980_2021m.nc\", encoding = {\"pet\": {\"zlib\": True, \"complevel\": 1, \"dtype\": \"int16\"}})\n",
    "\n",
    "# Annual timestep\n",
    "pet_stack = pet_stack.resample(time='YS').sum().mean(dim = \"time\")\n",
    "pet_stack = pet_stack.where(pet_mask)\n",
    "pet_stack = pet_stack.round(0)\n",
    "pet_stack = pet_stack.rename({'lon':'x', 'lat':'y'})\n",
    "pet_stack.rio.to_raster(\"Evapotranspiration/PET_GLEAM36a_1980_2021.tif\")"
   ]
  },
  {
   "cell_type": "markdown",
   "id": "f8dd15e4-124c-4768-a962-34b8229a9982",
   "metadata": {},
   "source": [
    "## WATER BALANCE III & IV"
   ]
  },
  {
   "cell_type": "code",
   "execution_count": null,
   "id": "c7b746e8-9fd8-4d73-903c-aee53f553ef9",
   "metadata": {},
   "outputs": [],
   "source": [
    "sample  = xr.open_dataset(\"Precipitation/PP_CR2MET_1979_2020d.nc\").pp[0].rename({'lat':'y','lon':'x'})\n",
    "\n",
    "dict_bh3  = {'dim_lon':'x', 'dim_lat':'y', 'dim_time':'time'} # monthly averaged reanalysis (ok)\n",
    "bh3_stack = xr.open_dataset(os.path.join(local + \"/DGA_BH/BH3/netcdf/1_Historico/regionalizacion_1979_2015.nc\")).rename(dict_bh3)\n",
    "bh3_stack = bh3_stack.assign_coords(time = pd.date_range(start='1979/01/01', end='2015/12/01', freq='MS'))\n",
    "bh3_stack = bh3_stack.assign_coords(x  = bh3_stack.lon)\n",
    "bh3_stack = bh3_stack.assign_coords(y  = bh3_stack.lat)\n",
    "bh3_stack = bh3_stack.transpose(\"time\", \"y\", \"x\")\n",
    "\n",
    "bh3_stack = bh3_stack.where((bh3_stack.x >= -75) & (bh3_stack.x <= -71) & (bh3_stack.y >= -45.8) & (bh3_stack.y <= -40), drop=True)\n",
    "bh3_stack = bh3_stack.sel(time = slice(\"1985-01-01\", \"2016-01-01\"))\n",
    "bh3_stack = bh3_stack[[\"pr\", \"ET\", \"PET\"]].resample(time='1Y').sum()\n",
    "bh3_stack = bh3_stack.mean(\"time\")\n",
    "bh3_stack = bh3_stack.where(bh3_stack.pr != 0)\n",
    "bh3_stack[\"ET\"] = bh3_stack.ET*30\n",
    "bh3_stack[\"PET\"] = bh3_stack.PET*30\n",
    "bh3_stack = bh3_stack.interp_like(sample, method='nearest') # BH3 and BH4 are not aligned\n",
    "\n",
    "bh4_stack  = xr.Dataset(dict(pr = xr.open_dataset(local + \"/DGA_BH/BH4/Archivos_raster/BH_85-15/Forzantes/1_Historico/pr_Anual_LatLon.tif\").band_data,\n",
    "                             PET = xr.open_dataset(local + \"/DGA_BH/BH4/Archivos_raster/BH_85-15/VIC/1_Historico/pet_Anual_LatLon.tif\").band_data,\n",
    "                             ET = xr.open_dataset(local + \"/DGA_BH/BH4/Archivos_raster/BH_85-15/VIC/1_Historico/et_Anual_LatLon.tif\").band_data))\n",
    "bh4_stack  = bh4_stack.sel(band=1, drop=True).drop(\"spatial_ref\")\n",
    "bh4_stack  = bh4_stack.interp_like(sample, method='nearest')\n",
    "bh4_stack = bh4_stack.combine_first(bh3_stack)\n",
    "bh4_stack = bh4_stack.rio.write_crs(\"epsg:4326\", inplace=True)\n",
    "\n",
    "bh4_stack.pr.rio.to_raster(\"Precipitation/PP_WB_DGA_1985_2015.tif\")\n",
    "bh4_stack.PET.rio.to_raster(\"Evapotranspiration/PET_WB_DGA_1985_2015.tif\")\n",
    "bh4_stack.ET.rio.to_raster(\"Evapotranspiration/ET_WB_DGA_1985_2015.tif\")"
   ]
  }
 ],
 "metadata": {
  "kernelspec": {
   "display_name": "Python 3 (ipykernel)",
   "language": "python",
   "name": "python3"
  },
  "language_info": {
   "codemirror_mode": {
    "name": "ipython",
    "version": 3
   },
   "file_extension": ".py",
   "mimetype": "text/x-python",
   "name": "python",
   "nbconvert_exporter": "python",
   "pygments_lexer": "ipython3",
   "version": "3.10.10"
  },
  "toc-autonumbering": false
 },
 "nbformat": 4,
 "nbformat_minor": 5
}
