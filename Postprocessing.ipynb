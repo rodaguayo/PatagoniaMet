{
 "cells": [
  {
   "cell_type": "markdown",
   "id": "d4f7b85c-2d2d-471b-9574-d2cd18da70ed",
   "metadata": {},
   "source": [
    "# Code to speed up some processes from R\n",
    "Developed by Rodrigo Aguayo (2020-2023)"
   ]
  },
  {
   "cell_type": "code",
   "execution_count": null,
   "id": "3def55cf-78b3-4ef0-bb10-fd8b69ec3f50",
   "metadata": {},
   "outputs": [],
   "source": [
    "import pandas as pd\n",
    "import xarray as xr\n",
    "import regionmask\n",
    "import rioxarray as rioxr\n",
    "import geopandas as gpd\n",
    "import numpy as np\n",
    "import os\n",
    "\n",
    "os.chdir('/home/rooda/Dropbox/Patagonia/') \n",
    "days = np.array([31, 28, 31, 30, 31, 30, 31, 31, 30, 31, 30, 31])\n",
    "\n",
    "encode_pp   = {\"pp\": {\"zlib\": True, \"complevel\": 1, \"dtype\": \"int16\"}}\n",
    "encode_t2m  = {'t2m':   {'dtype': 'int16', 'scale_factor': 0.01, '_FillValue': -9999}}\n",
    "encode_tmax = {'tmax':  {'dtype': 'int16', 'scale_factor': 0.01, '_FillValue': -9999}}\n",
    "encode_tmin = {'tmin':  {'dtype': 'int16', 'scale_factor': 0.01, '_FillValue': -9999}}"
   ]
  },
  {
   "cell_type": "markdown",
   "id": "be24ce91-c41f-4211-afb6-111799f8620d",
   "metadata": {},
   "source": [
    "## Temperature "
   ]
  },
  {
   "cell_type": "markdown",
   "id": "403b76f7-5613-46fa-adee-88ed6afd6922",
   "metadata": {},
   "source": [
    "### Reference"
   ]
  },
  {
   "cell_type": "code",
   "execution_count": null,
   "id": "fc11c67e-3330-4da1-859e-74e1167d169c",
   "metadata": {},
   "outputs": [],
   "source": [
    "tmax = xr.open_mfdataset(\"Data/Temperature/Tmax_PMET_1980_2020d_*.nc\", concat_dim='time', combine='nested', chunks =\"auto\")\n",
    "tmax = tmax.sortby(\"time\").Tmax.rename(\"tmax\")\n",
    "tmax.to_netcdf(\"Data/Temperature/Tmax_PMETsim_1980_2020_v10d.nc\", encoding = encode_tmax)\n",
    "\n",
    "tmin = xr.open_mfdataset(\"Data/Temperature/Tmin_PMET_1980_2020d_*.nc\", concat_dim='time', combine='nested', chunks =\"auto\")\n",
    "tmin = tmin.sortby(\"time\").Tmin.rename(\"tmin\")\n",
    "tmin.to_netcdf(\"Data/Temperature/Tmin_PMETsim_1980_2020_v10d.nc\", encoding = encode_tmin)\n",
    "\n",
    "t2m_pmet = (tmax + tmin)/2\n",
    "t2m_pmet = t2m_pmet.rename(\"t2m\")\n",
    "t2m_pmet.to_netcdf(\"Data/Temperature/Tavg_PMETsim_1980_2020_v10d.nc\", encoding = encode_t2m)\n",
    "\n",
    "t2m_pmet_m = t2m_pmet.resample(time='MS').mean()\n",
    "t2m_pmet_m = xr.Dataset(dict(t2m = t2m_pmet_m))\n",
    "t2m_pmet_m.to_netcdf(\"Data/Temperature/Tavg_PMETsim_1980_2020_v10m.nc\", encoding = encode_t2m)\n",
    "\n",
    "t2m_pmet_y = t2m_pmet.resample(time='YS').mean()\n",
    "t2m_pmet_y = t2m_pmet_y.mean(dim = \"time\")\n",
    "t2m_pmet_y.rio.to_raster(\"Data/Temperature/Tavg_PMETsim_1980_2020_v10.tif\")"
   ]
  },
  {
   "cell_type": "markdown",
   "id": "e74a2e28-30fe-4285-a7d8-7e9a335a8e92",
   "metadata": {},
   "source": [
    "### Cross-validation"
   ]
  },
  {
   "cell_type": "code",
   "execution_count": null,
   "id": "305d99e6-d0c2-4ba0-8ea2-8178ff29cec4",
   "metadata": {},
   "outputs": [],
   "source": [
    "for cv in range (1,11):\n",
    "    tmax = xr.open_mfdataset(\"Data/Temperature/CV/raw/Tmax_PMET_*\" + str(cv) +\".nc\", concat_dim='time', combine='nested', chunks =\"auto\")\n",
    "    tmax = tmax.sortby(\"time\").Tmax.rename(\"tmax\")\n",
    "    tmax.to_netcdf(\"Data/Temperature/CV/Tmax_PMETsim_1980_2020d_\"  + str(cv) + \".nc\", encoding = encode_tmax)\n",
    "    \n",
    "    tmin = xr.open_mfdataset(\"Data/Temperature/CV/raw/Tmin_PMET_*\" + str(cv) +\".nc\", concat_dim='time', combine='nested', chunks =\"auto\")\n",
    "    tmin = tmin.sortby(\"time\").Tmin.rename(\"tmin\")\n",
    "    tmin.to_netcdf(\"Data/Temperature/CV/Tmin_PMETsim_1980_2020d_\"  + str(cv) + \".nc\", encoding = encode_tmin)\n",
    "    \n",
    "    tavg = (tmax + tmin)/2\n",
    "    tavg = tavg.rename(\"t2m\")\n",
    "    tavg.to_netcdf(\"Data/Temperature/CV/Tavg_PMETsim_1980_2020d_\" + str(cv) + \".nc\", encoding = encode_t2m)\n",
    "\n",
    "    tavg_m = tavg.resample(time='MS').mean()\n",
    "    tavg_m = xr.Dataset(dict(t2m = tavg_m))\n",
    "    tavg_m.to_netcdf(\"Data/Temperature/CV/Tavg_PMETsim_1980_2020m_\" + str(cv) + \".nc\", encoding = encode_t2m)"
   ]
  },
  {
   "cell_type": "markdown",
   "id": "b47dd523-5a93-4090-b129-a7df48bf592a",
   "metadata": {},
   "source": [
    "## Precipitation "
   ]
  },
  {
   "cell_type": "markdown",
   "id": "736b9e88-4788-47d8-a708-655fd821bd3f",
   "metadata": {},
   "source": [
    "### Reference"
   ]
  },
  {
   "cell_type": "code",
   "execution_count": null,
   "id": "b65d0520-8a96-400f-908f-5a0e951bc699",
   "metadata": {},
   "outputs": [],
   "source": [
    "pp_pmet_npc = xr.open_mfdataset(\"Data/Precipitation/PP_PMET_1980_2020d_*npc.nc\", concat_dim='time', combine='nested', chunks =\"auto\")\n",
    "pp_pmet_npc = pp_pmet_npc.sortby(\"time\")\n",
    "pp_pmet_npc.to_netcdf(\"Data/Precipitation/PP_PMETsim_1980_2020d_npc.nc\")"
   ]
  },
  {
   "cell_type": "code",
   "execution_count": null,
   "id": "afcf4926-a17e-497a-b56c-744c9b14dd89",
   "metadata": {},
   "outputs": [],
   "source": [
    "pp_pmet_npc = xr.open_dataset(\"Data/Precipitation/PP_PMETsim_1980_2020d_npc.nc\", chunks = \"auto\").pp\n",
    "bias_factor = xr.open_dataset(\"MS1 Results/Bias_Factor_PP.tif\").band_data\n",
    "bias_factor = bias_factor[0].drop_vars([\"band\", \"spatial_ref\"])\n",
    "bias_factor = bias_factor.rename({\"x\": \"longitude\", \"y\": \"latitude\"})\n",
    "bias_factor = bias_factor.interp(longitude = pp_pmet_npc.longitude, latitude = pp_pmet_npc.latitude)\n",
    "\n",
    "pp_pmet = (pp_pmet_npc * bias_factor)\n",
    "pp_pmet = xr.Dataset(dict(pp = pp_pmet))\n",
    "pp_pmet.to_netcdf(\"Data/Precipitation/PP_PMETsim_1980_2020_v10d.nc\")\n",
    "\n",
    "pp_pmet_m = pp_pmet.resample(time='MS').sum(skipna = False)\n",
    "pp_pmet_m.to_netcdf(\"Data/Precipitation/PP_PMETsim_1980_2020_v10m.nc\")\n",
    "\n",
    "pp_pmet_y = pp_pmet_m.resample(time='YS').sum(skipna = False)\n",
    "pp_pmet_y = pp_pmet_y.mean(dim = \"time\")\n",
    "pp_pmet_y.rio.to_raster(\"Data/Precipitation/PP_PMETsim_1980_2020_v10.tif\")"
   ]
  },
  {
   "cell_type": "markdown",
   "id": "6c919da4-e1ce-40a7-8b16-399af2d0df10",
   "metadata": {},
   "source": [
    "### Cross-validation"
   ]
  },
  {
   "cell_type": "code",
   "execution_count": null,
   "id": "663ca9af-ac4e-42bf-84a5-da41a46f9f12",
   "metadata": {},
   "outputs": [],
   "source": [
    "for cv in range (1,11):\n",
    "    pp = xr.open_mfdataset(\"/home/rooda/PMET_results/Precipitation/raw/PP_PMET_*\" + str(cv) + \"_npc.nc\", concat_dim='time', combine='nested', chunks =\"auto\")\n",
    "    pp = pp.sortby(\"time\").pp.rename(\"pp\")\n",
    "    pp = pp.astype(\"int16\")\n",
    "    pp.to_netcdf(\"/home/rooda/PMET_results/Precipitation/PP_PMETsim_1980_2020d_npc_\"  + str(cv) + \".nc\")\n",
    "    print(cv)"
   ]
  },
  {
   "cell_type": "code",
   "execution_count": null,
   "id": "6e6ee4ed-04f0-4eb5-819e-682a6351fb9e",
   "metadata": {},
   "outputs": [],
   "source": [
    "for cv in range (1,11):\n",
    "    pp_pmet_npc = xr.open_dataset(\"/home/rooda/PMET_results/Precipitation/PP_PMETsim_1980_2020d_npc_\"  + str(cv) + \".nc\").pp\n",
    "    bias_factor = xr.open_dataset(\"/home/rooda/PMET_results/Precipitation/Bias_Factor_PP_\" + str(cv) + \".tif\").band_data\n",
    "    bias_factor = bias_factor[0].drop_vars([\"band\", \"spatial_ref\"])\n",
    "    bias_factor = bias_factor.rename({\"x\": \"longitude\", \"y\": \"latitude\"})\n",
    "    bias_factor = bias_factor.interp(longitude = pp_pmet_npc.longitude, latitude = pp_pmet_npc.latitude)\n",
    "    \n",
    "    pp_pmet = (pp_pmet_npc * bias_factor)\n",
    "    pp_pmet = xr.Dataset(dict(pp = pp_pmet))\n",
    "    pp_pmet.to_netcdf(\"/home/rooda/PMET_results/Precipitation/PP_PMETsim_1980_2020d_\"  + str(cv) + \".nc\")\n",
    "    \n",
    "    pp_pmet_m = pp_pmet.resample(time='MS').sum(skipna = False)\n",
    "    pp_pmet_m.to_netcdf(\"/home/rooda/PMET_results/Precipitation/PP_PMETsim_1980_2020m_\"  + str(cv) + \".nc\")\n",
    "    print(cv)"
   ]
  }
 ],
 "metadata": {
  "kernelspec": {
   "display_name": "Python 3 (ipykernel)",
   "language": "python",
   "name": "python3"
  },
  "language_info": {
   "codemirror_mode": {
    "name": "ipython",
    "version": 3
   },
   "file_extension": ".py",
   "mimetype": "text/x-python",
   "name": "python",
   "nbconvert_exporter": "python",
   "pygments_lexer": "ipython3",
   "version": "3.10.10"
  },
  "toc-autonumbering": false
 },
 "nbformat": 4,
 "nbformat_minor": 5
}
