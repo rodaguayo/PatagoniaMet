{
 "cells": [
  {
   "cell_type": "markdown",
   "id": "9048f59f-3b57-4a60-9427-93ef952620dc",
   "metadata": {},
   "source": [
    "# Calculating potential evaporation (Ep)"
   ]
  },
  {
   "cell_type": "code",
   "execution_count": null,
   "id": "d756c617-1f50-45be-a861-5cf826872254",
   "metadata": {},
   "outputs": [],
   "source": [
    "import pandas as pd\n",
    "import rioxarray as rioxr\n",
    "import xarray as xr\n",
    "import numpy as np\n",
    "import pyet\n",
    "import os\n",
    "\n",
    "os.chdir('/home/rooda/Dropbox/Patagonia/Data/') \n",
    "days = np.array([31, 28, 31, 30, 31, 30, 31, 31, 30, 31, 30, 31])\n",
    "period = slice(\"1980-01-01\", \"2020-12-31\")\n",
    "\n",
    "encode_pet   = {'PET':  {'dtype': 'int16', 'scale_factor': 0.01, '_FillValue': -9999}}"
   ]
  },
  {
   "cell_type": "markdown",
   "id": "26395fa7-d851-4e08-9d5a-c4e62bf3e7f2",
   "metadata": {},
   "source": [
    "## Data"
   ]
  },
  {
   "cell_type": "markdown",
   "id": "51a9dbc4-de03-471f-a023-4de8716dfffc",
   "metadata": {},
   "source": [
    "The variables of each dataset are Tmax, Tmin and Tavg (Hargreaves equation)"
   ]
  },
  {
   "cell_type": "code",
   "execution_count": null,
   "id": "6f179651-e02d-4932-ad2d-6db814f258c1",
   "metadata": {},
   "outputs": [],
   "source": [
    "# CR2MET\n",
    "cr2met_tmax  = xr.open_dataset(\"Temperature/Tmax_CR2MET_1960_2021d.nc\", chunks =\"auto\").rename({\"tmax\":\"T2M\"})[\"T2M\"].sel(time = period)\n",
    "cr2met_tmin  = xr.open_dataset(\"Temperature/Tmin_CR2MET_1960_2021d.nc\", chunks =\"auto\").rename({\"tmin\":\"T2M\"})[\"T2M\"].sel(time = period)\n",
    "cr2met_tmean = xr.open_dataset(\"Temperature/Tavg_CR2MET_1960_2021d.nc\", chunks =\"auto\").rename({\"t2m\":\"T2M\"})[\"T2M\"].sel(time = period)\n",
    "cr2met_lat   = cr2met_tmean.lat * np.pi / 180\n",
    "\n",
    "# PMET\n",
    "pmet_tmax  = xr.open_dataset(\"Temperature/Tmax_PMET_1980_2020d.nc\", chunks =\"auto\").rename({\"tmax\":\"T2M\"})[\"T2M\"].sel(time = period)\n",
    "pmet_tmin  = xr.open_dataset(\"Temperature/Tmin_PMET_1980_2020d.nc\", chunks =\"auto\").rename({\"tmin\":\"T2M\"})[\"T2M\"].sel(time = period)\n",
    "pmet_tmean = xr.open_dataset(\"Temperature/Tavg_PMET_1980_2020d.nc\", chunks =\"auto\").rename({\"t2m\":\"T2M\"})[\"T2M\"].sel(time = period)\n",
    "pmet_lat   = pmet_tmean.latitude * np.pi / 180\n",
    "\n",
    "# ERA5\n",
    "era5_tmax  = xr.open_dataset(\"Temperature/Tmax_ERA5_hr_1980_2020d.nc\", chunks =\"auto\").rename({\"tmax\":\"T2M\"})[\"T2M\"].sel(time = period)\n",
    "era5_tmin  = xr.open_dataset(\"Temperature/Tmin_ERA5_hr_1980_2020d.nc\", chunks =\"auto\").rename({\"tmin\":\"T2M\"})[\"T2M\"].sel(time = period)\n",
    "era5_tmean = xr.open_dataset(\"Temperature/Tavg_ERA5_hr_1980_2020d.nc\", chunks =\"auto\").rename({\"t2m\":\"T2M\"})[\"T2M\"].sel(time = period)\n",
    "era5_lat   = era5_tmean.latitude * np.pi / 180\n",
    "\n",
    "# MSWEP/MSWX\n",
    "mswx_tmax  = xr.open_dataset(\"Temperature/Tmax_MSWX_1979_2019d.nc\", chunks =\"auto\").rename({\"t2m\":\"T2M\"})[\"T2M\"].sel(time = period)\n",
    "mswx_tmin  = xr.open_dataset(\"Temperature/Tmin_MSWX_1979_2019d.nc\", chunks =\"auto\").rename({\"t2m\":\"T2M\"})[\"T2M\"].sel(time = period)\n",
    "mswx_tmean = xr.open_dataset(\"Temperature/Tavg_MSWX_1979_2019d.nc\", chunks =\"auto\").rename({\"t2m\":\"T2M\"})[\"T2M\"].sel(time = period)\n",
    "mswx_lat   = mswx_tmean.lat * np.pi / 180\n",
    "\n",
    "# W5D5\n",
    "w5d5_tmax  = xr.open_dataset(\"Temperature/Tmax_W5E5_1979_2019d.nc\", chunks =\"auto\").rename({\"t2m\":\"T2M\"})[\"T2M\"].sel(time = period)\n",
    "w5d5_tmin  = xr.open_dataset(\"Temperature/Tmin_W5E5_1979_2019d.nc\", chunks =\"auto\").rename({\"t2m\":\"T2M\"})[\"T2M\"].sel(time = period)\n",
    "w5d5_tmean = xr.open_dataset(\"Temperature/Tavg_W5E5_1979_2019d.nc\", chunks =\"auto\").rename({\"t2m\":\"T2M\"})[\"T2M\"].sel(time = period)\n",
    "w5d5_lat   = w5d5_tmean.lat * np.pi / 180"
   ]
  },
  {
   "cell_type": "markdown",
   "id": "688ab67c-e626-41d1-989c-5dced87080a5",
   "metadata": {},
   "source": [
    "## Calculation of Ep"
   ]
  },
  {
   "cell_type": "code",
   "execution_count": null,
   "id": "3cc4549f-5f1e-46d3-ba63-85d2bfd6adf5",
   "metadata": {},
   "outputs": [],
   "source": [
    "pet_pmet = pyet.hargreaves(pmet_tmean, pmet_tmax, pmet_tmin, pmet_lat)\n",
    "pet_pmet = pet_pmet.rename(\"PET\")\n",
    "pet_pmet.to_netcdf(\"Evapotranspiration/PET_PMET_1980_2020d.nc\", encoding = encode_pet)\n",
    "\n",
    "pet_pmet_y = pet_pmet.resample(time = \"1Y\").sum().mean(dim = \"time\")\n",
    "pet_pmet_y = pet_pmet_y.where(pet_pmet_y > 0)\n",
    "pet_pmet_y = pet_pmet_y.rio.write_crs(\"epsg:4326\", inplace=True)\n",
    "pet_pmet_y.rio.to_raster(\"Evapotranspiration/PET_PMET_1980_2020.tif\")"
   ]
  },
  {
   "cell_type": "code",
   "execution_count": null,
   "id": "e2115aab-5ade-429d-a211-28f72fb586a6",
   "metadata": {},
   "outputs": [],
   "source": [
    "pet_cr2met = pyet.hargreaves(cr2met_tmean, cr2met_tmax, cr2met_tmin, cr2met_lat)\n",
    "pet_cr2met = pet_cr2met.rename(\"PET\")\n",
    "pet_cr2met.to_netcdf(\"Evapotranspiration/PET_CR2MET_1980_2020d.nc\", encoding = encode_pet)\n",
    "\n",
    "pet_era5 = pyet.hargreaves(era5_tmean, era5_tmax, era5_tmin, era5_lat)\n",
    "pet_era5 = pet_era5.rename(\"PET\")\n",
    "pet_era5.to_netcdf(\"Evapotranspiration/PET_ERA5_hr_1980_2020d.nc\", encoding = encode_pet)\n",
    "\n",
    "pet_mswx = pyet.hargreaves(mswx_tmean, mswx_tmax, mswx_tmin, mswx_lat)\n",
    "pet_mswx = pet_mswx.rename(\"PET\")\n",
    "pet_mswx.to_netcdf(\"Evapotranspiration/PET_MSWX_1980_2020d.nc\", encoding = encode_pet)\n",
    "\n",
    "pet_w5d5 = pyet.hargreaves(w5d5_tmean, w5d5_tmax, w5d5_tmin, w5d5_lat)\n",
    "pet_w5d5 = pet_w5d5.rename(\"PET\")\n",
    "pet_w5d5.to_netcdf(\"Evapotranspiration/PET_W5E5_1980_2019d.nc\", encoding = encode_pet)"
   ]
  }
 ],
 "metadata": {
  "kernelspec": {
   "display_name": "Python 3",
   "language": "python",
   "name": "python3"
  },
  "language_info": {
   "codemirror_mode": {
    "name": "ipython",
    "version": 3
   },
   "file_extension": ".py",
   "mimetype": "text/x-python",
   "name": "python",
   "nbconvert_exporter": "python",
   "pygments_lexer": "ipython3",
   "version": "3.9.15"
  }
 },
 "nbformat": 4,
 "nbformat_minor": 5
}
