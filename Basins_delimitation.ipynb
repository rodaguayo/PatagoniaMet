{
 "cells": [
  {
   "cell_type": "markdown",
   "id": "6164eb13-4f9e-4c51-bb1e-c7f0f5a37cfc",
   "metadata": {},
   "source": [
    "# Code for basin delimitation"
   ]
  },
  {
   "cell_type": "markdown",
   "id": "9ed41c79-2809-419f-9764-3bff7af33039",
   "metadata": {},
   "source": [
    "Developed by Rodrigo Aguayo (2020-2023)"
   ]
  },
  {
   "cell_type": "code",
   "execution_count": null,
   "id": "dda316e1-864f-4b13-871e-80619d22614b",
   "metadata": {},
   "outputs": [],
   "source": [
    "import grass.jupyter as gj\n",
    "import grass.script as gs\n",
    "from grass.pygrass.modules.grid import GridModule\n",
    "\n",
    "from tqdm.notebook import tqdm\n",
    "\n",
    "from geocube.vector import vectorize\n",
    "import rioxarray as rioxr\n",
    "import geopandas as gpd\n",
    "import pandas as pd\n",
    "import os\n",
    "\n",
    "os.chdir('/home/rooda/Dropbox/Patagonia') "
   ]
  },
  {
   "cell_type": "markdown",
   "id": "ea3a2407-ff2d-4dff-924a-d98010f6867a",
   "metadata": {},
   "source": [
    "## Elevation"
   ]
  },
  {
   "cell_type": "code",
   "execution_count": null,
   "id": "74879ae4-7b9e-4873-b136-e2305f939afb",
   "metadata": {},
   "outputs": [],
   "source": [
    "# import raster NASADEM 30 m\n",
    "gs.run_command(\"r.import\", input=\"GIS South/dem_patagonia1.tif\", output=\"elevation_hr\", flags = \"o\", overwrite=True)\n",
    "gs.run_command(\"g.region\", raster=\"elevation_hr\", flags=\"p\")"
   ]
  },
  {
   "cell_type": "code",
   "execution_count": null,
   "id": "423558d1-1d32-4371-b10d-8623726bced6",
   "metadata": {},
   "outputs": [],
   "source": [
    "# resample to ~90m\n",
    "gs.run_command(\"g.region\", raster=\"elevation_hr\", res = 0.00083333)\n",
    "gs.run_command('r.resamp.stats', input='elevation_hr', output='elevation_lr', overwrite = True)"
   ]
  },
  {
   "cell_type": "code",
   "execution_count": null,
   "id": "2bace2d5-534d-4643-bdf8-4e4aaed010e9",
   "metadata": {},
   "outputs": [],
   "source": [
    "# sink removal using Lindsay et al. (2005) [MULTICORE]\n",
    "grid = GridModule(\"r.hydrodem\",\n",
    "                  input=\"elevation_lr\", \n",
    "                  output = \"elevation_filled\",\n",
    "                  overwrite = True,\n",
    "                  processes=20,\n",
    "                  overlap=500)\n",
    "grid.run()"
   ]
  },
  {
   "cell_type": "markdown",
   "id": "ce7d0a4e-3915-495f-a7f4-d518ec58b02d",
   "metadata": {},
   "source": [
    "## Delimitate all basins based of stream gauge location (intersection file)"
   ]
  },
  {
   "cell_type": "code",
   "execution_count": null,
   "id": "d8224f2b-71ad-445f-86c1-480b30f6e455",
   "metadata": {},
   "outputs": [],
   "source": [
    "# calculate accumulation raster map and drainage direction raster map using MFD: multiple flow direction\n",
    "gs.run_command(\"r.watershed\", \n",
    "               elevation=\"elevation_filled\", \n",
    "               threshold=500,\n",
    "               drainage= \"fdir\", \n",
    "               accumulation=\"accum\",\n",
    "               overwrite = True)\n",
    "\n",
    "# Performs stream network extraction [MULTICORE]\n",
    "grid = GridModule(\"r.stream.extract\",\n",
    "                  elevation=\"elevation_filled\",  \n",
    "                  threshold=10000,\n",
    "                  accumulation= \"accum\", \n",
    "                  stream_vector=\"stream_v\", \n",
    "                  stream_raster=\"stream_r\",\n",
    "                  overwrite = True,\n",
    "                  processes=8,\n",
    "                  overlap=500)\n",
    "grid.run()"
   ]
  },
  {
   "cell_type": "code",
   "execution_count": null,
   "id": "5e228024-1ca8-4144-9916-d2f2198d5c34",
   "metadata": {},
   "outputs": [],
   "source": [
    "gs.run_command('r.out.gdal', input=\"accum\", output=  'GIS South/accu_delete.tif', format='GTiff', overwrite=True)"
   ]
  },
  {
   "cell_type": "code",
   "execution_count": null,
   "id": "befbc320-5153-4baf-beac-376c5b515387",
   "metadata": {},
   "outputs": [],
   "source": [
    "# stream gauge data\n",
    "q_location = pd.read_csv(\"Data/Streamflow/Q_PMETobs_v10_metadata.csv\").iloc[:,0:7]\n",
    "q_location = gpd.GeoDataFrame(q_location, geometry= gpd.points_from_xy(x=q_location.gauge_lon, y=q_location.gauge_lat), crs=\"EPSG:4326\")\n",
    "q_location.to_file(\"GIS South/Basins_PMET_v10_points.shp\")\n",
    "\n",
    "gs.run_command(\"v.import\",  input=\"GIS South/Basins_PMET_v10_points.shp\", output=\"q_grass\", flags = \"o\", overwrite=True)"
   ]
  },
  {
   "cell_type": "code",
   "execution_count": null,
   "id": "14ab3f38-2038-4b8a-b910-579fa49da3a8",
   "metadata": {},
   "outputs": [],
   "source": [
    "# Snap point to modelled stream network\n",
    "gs.run_command(\"r.stream.snap\", input=\"q_grass\", output = \"q_grass_snap\", stream_rast=\"stream_r\", radius = 50, overwrite=True)\n",
    "\n",
    "# Delineates basins according stream network.\n",
    "gs.run_command(\"r.stream.basins\", flags=\"l\", direction=\"fdir\", points = \"q_grass_snap\", basins=\"basins\", overwrite = True)\n",
    "gs.run_command('r.out.gdal', input=\"basins\", output=  'GIS South/Basins_PMET_v10_int.tif', format='GTiff', overwrite=True)  "
   ]
  },
  {
   "cell_type": "code",
   "execution_count": null,
   "id": "6720050b-6c18-4583-868b-0a10c554e133",
   "metadata": {},
   "outputs": [],
   "source": [
    "# from raster to shp\n",
    "data = rioxr.open_rasterio(\"GIS South/Basins_PMET_v10_int.tif\")\n",
    "data.name = \"gauge_id\"\n",
    "basins_int = vectorize(data)\n",
    "basins_int = basins_int.set_crs(4326)\n",
    "basins_int = basins_int.dissolve(by='gauge_id')\n",
    "basins_int = basins_int.reset_index()\n",
    "\n",
    "basins_int[\"gauge_id\"]    = q_location.gauge_id\n",
    "basins_int[\"gauge_name\"]  = q_location.gauge_name\n",
    "basins_int[\"institutio\"] = q_location.institution\n",
    "basins_int[\"int_area\"]    = basins_int.to_crs(32719).area / 1e6\n",
    "\n",
    "# check\n",
    "print((basins_int.int_area > 10).sum() == len(basins_int))\n",
    "\n",
    "basins_int.to_file(\"GIS South/Basins_PMETobs_int.shp\")"
   ]
  },
  {
   "cell_type": "markdown",
   "id": "b6058389-bfc5-4a81-8dd6-3f7704f6396c",
   "metadata": {},
   "source": [
    "## Delimitate all basins based of stream gauge location (1 polygon per basin)"
   ]
  },
  {
   "cell_type": "code",
   "execution_count": null,
   "id": "59f75b7b-faea-46be-9b64-02b09fea978f",
   "metadata": {},
   "outputs": [],
   "source": [
    "gs.run_command(\"v.out.ogr\", input =\"q_grass_snap\", output = \"GIS South/Basins_PMET_v10_points_s.shp\", format = \"ESRI_Shapefile\", overwrite=True)\n",
    "q_grass_snap = gpd.read_file(\"GIS South/Basins_PMET_v10_points_s.shp\").get_coordinates()\n",
    "q_grass_snap = q_grass_snap.set_index(basins_int.gauge_id)"
   ]
  },
  {
   "cell_type": "code",
   "execution_count": null,
   "id": "d966f1c8-53f7-426d-bacc-441810dffea5",
   "metadata": {},
   "outputs": [],
   "source": [
    "df = []\n",
    "\n",
    "for basin in tqdm(q_grass_snap.index):\n",
    "    coords = [q_grass_snap.x[basin], q_grass_snap.y[basin]]\n",
    "    gs.run_command(\"r.water.outlet\", input=\"fdir\", output = \"basin_i\", coordinates = coords, overwrite=True)\n",
    "    gs.run_command('r.out.gdal', input=\"basin_i\", output=  'GIS South/Basins/Basin_{}.tif'.format(basin), format='GTiff', overwrite=True)\n",
    "    data = rioxr.open_rasterio('GIS South/Basins/Basin_{}.tif'.format(basin))\n",
    "    data.name = \"gauge_id\"\n",
    "    data = vectorize(data)\n",
    "    data[\"gauge_id\"] = basin\n",
    "    data = data.set_crs(4326)\n",
    "    data = data.dissolve(by='gauge_id')\n",
    "    data = data.reset_index()\n",
    "    df.append(data)\n",
    "\n",
    "df = pd.concat(df)\n",
    "df = df.reset_index()\n",
    "\n",
    "df[\"gauge_name\"] = q_location.gauge_name\n",
    "df[\"institutio\"] = q_location.institution\n",
    "df[\"int_area\"]   = df.to_crs(32719).area / 1e6\n",
    "\n",
    "df.to_file(\"GIS South/Basins_PMETobs.shp\")"
   ]
  }
 ],
 "metadata": {
  "kernelspec": {
   "display_name": "Python 3 (ipykernel)",
   "language": "python",
   "name": "python3"
  },
  "language_info": {
   "codemirror_mode": {
    "name": "ipython",
    "version": 3
   },
   "file_extension": ".py",
   "mimetype": "text/x-python",
   "name": "python",
   "nbconvert_exporter": "python",
   "pygments_lexer": "ipython3",
   "version": "3.10.10"
  }
 },
 "nbformat": 4,
 "nbformat_minor": 5
}
